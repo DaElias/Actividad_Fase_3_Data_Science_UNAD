{
 "cells": [
  {
   "cell_type": "markdown",
   "id": "39614488-c0e2-4008-bdd6-bf9357852eb2",
   "metadata": {},
   "source": [
    "# KMeans: David Cerchiaro"
   ]
  },
  {
   "cell_type": "markdown",
   "id": "955a20fc-2b0a-4a3c-9bc8-52bb3dd70046",
   "metadata": {},
   "source": [
    "## Introducción\n",
    "\n",
    "...."
   ]
  },
  {
   "cell_type": "markdown",
   "id": "cdaee098-303a-4e04-bcfb-1b07ef04b52d",
   "metadata": {},
   "source": [
    "## Objetivo\n",
    "\n",
    "..."
   ]
  },
  {
   "cell_type": "markdown",
   "id": "4de2b948-28f2-466c-aac8-c9f7daa42a43",
   "metadata": {},
   "source": [
    "## Resolucion del problema"
   ]
  },
  {
   "cell_type": "code",
   "execution_count": null,
   "id": "05c4d29a-c257-4f4d-9edb-c6cf5f2fc88f",
   "metadata": {},
   "outputs": [],
   "source": []
  }
 ],
 "metadata": {
  "kernelspec": {
   "display_name": "Python 3 (ipykernel)",
   "language": "python",
   "name": "python3"
  },
  "language_info": {
   "codemirror_mode": {
    "name": "ipython",
    "version": 3
   },
   "file_extension": ".py",
   "mimetype": "text/x-python",
   "name": "python",
   "nbconvert_exporter": "python",
   "pygments_lexer": "ipython3",
   "version": "3.11.7"
  }
 },
 "nbformat": 4,
 "nbformat_minor": 5
}
